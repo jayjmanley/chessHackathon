{
 "cells": [
  {
   "cell_type": "markdown",
   "metadata": {},
   "source": [
    "# Chess Gameplay\n",
    "\n",
    "First import our `chess_gameplay` module."
   ]
  },
  {
   "cell_type": "code",
   "execution_count": 1,
   "metadata": {},
   "outputs": [],
   "source": [
    "import chess_gameplay as chg"
   ]
  },
  {
   "cell_type": "markdown",
   "metadata": {},
   "source": [
    "## Playing a game\n",
    "\n",
    "Let's take a look at how games will be played in the tournament. Before running this cell, open the `demo.png` file alongside so you can watch the action!"
   ]
  },
  {
   "cell_type": "code",
   "execution_count": 2,
   "metadata": {},
   "outputs": [
    {
     "name": "stdout",
     "output_type": "stream",
     "text": [
      "white: Na3\n",
      "black: c5\n",
      "white: c3\n",
      "black: Qb6\n",
      "white: Qa4\n",
      "black: f6\n",
      "white: Kd1\n",
      "black: Kd8\n",
      "white: e3\n",
      "black: Qa6\n",
      "white: f3\n",
      "black: b5\n",
      "white: Qb3\n",
      "black: g5\n"
     ]
    },
    {
     "name": "stderr",
     "output_type": "stream",
     "text": [
      "unhandled exception during asyncio.run() shutdown\n",
      "task: <Task finished name='Task-113' coro=<wait_for() done, defined at /usr/lib/python3.10/asyncio/tasks.py:392> exception=EngineTerminatedError('engine process died unexpectedly (exit code: -9)')>\n",
      "Traceback (most recent call last):\n",
      "  File \"/usr/lib/python3.10/asyncio/tasks.py\", line 432, in wait_for\n",
      "    await waiter\n",
      "asyncio.exceptions.CancelledError\n",
      "\n",
      "During handling of the above exception, another exception occurred:\n",
      "\n",
      "Traceback (most recent call last):\n",
      "  File \"/usr/lib/python3.10/asyncio/tasks.py\", line 435, in wait_for\n",
      "    return fut.result()\n",
      "  File \"/root/chess/lib/python3.10/site-packages/chess/engine.py\", line 1242, in analyse\n",
      "    await analysis.wait()\n",
      "  File \"/root/chess/lib/python3.10/site-packages/chess/engine.py\", line 2771, in wait\n",
      "    return await self._finished\n",
      "chess.engine.EngineTerminatedError: engine process died unexpectedly (exit code: -9)\n"
     ]
    },
    {
     "ename": "KeyboardInterrupt",
     "evalue": "",
     "output_type": "error",
     "traceback": [
      "\u001b[0;31m---------------------------------------------------------------------------\u001b[0m",
      "\u001b[0;31mKeyboardInterrupt\u001b[0m                         Traceback (most recent call last)",
      "Cell \u001b[0;32mIn[2], line 13\u001b[0m\n\u001b[1;32m      5\u001b[0m teams \u001b[39m=\u001b[39m {\u001b[39m'\u001b[39m\u001b[39mwhite\u001b[39m\u001b[39m'\u001b[39m: \u001b[39m'\u001b[39m\u001b[39mTeam White\u001b[39m\u001b[39m'\u001b[39m, \u001b[39m'\u001b[39m\u001b[39mblack\u001b[39m\u001b[39m'\u001b[39m: \u001b[39m'\u001b[39m\u001b[39mTeam Black\u001b[39m\u001b[39m'\u001b[39m}\n\u001b[1;32m      7\u001b[0m \u001b[39m# Then call the `play_game` function. Note that we're playing here to a maximum depth of 5 moves each. In the\u001b[39;00m\n\u001b[1;32m      8\u001b[0m \u001b[39m# tournament we will be playing to a maximum depth of 50 moves. We are also passing \"poseval\"=True which means \u001b[39;00m\n\u001b[1;32m      9\u001b[0m \u001b[39m# we will use StockFish to evaluate the board state after each move. These evaluations are used to update the \u001b[39;00m\n\u001b[1;32m     10\u001b[0m \u001b[39m# eval bar on the left side of the board rendering in `demo.png`. StockFish will be constrained by a time limit\u001b[39;00m\n\u001b[1;32m     11\u001b[0m \u001b[39m# of 2 seconds and a depth limit of 25.\u001b[39;00m\n\u001b[0;32m---> 13\u001b[0m game_result \u001b[39m=\u001b[39m chg\u001b[39m.\u001b[39;49mplay_game(\n\u001b[1;32m     14\u001b[0m     agents, \n\u001b[1;32m     15\u001b[0m     teams, \n\u001b[1;32m     16\u001b[0m     max_moves\u001b[39m=\u001b[39;49m\u001b[39m10\u001b[39;49m, \n\u001b[1;32m     17\u001b[0m     min_seconds_per_move\u001b[39m=\u001b[39;49m\u001b[39m2\u001b[39;49m, \n\u001b[1;32m     18\u001b[0m     verbose\u001b[39m=\u001b[39;49m\u001b[39mTrue\u001b[39;49;00m, \n\u001b[1;32m     19\u001b[0m     poseval\u001b[39m=\u001b[39;49m\u001b[39mTrue\u001b[39;49;00m, \n\u001b[1;32m     20\u001b[0m     image_path\u001b[39m=\u001b[39;49m\u001b[39m\"\u001b[39;49m\u001b[39mdemo.png\u001b[39;49m\u001b[39m\"\u001b[39;49m\n\u001b[1;32m     21\u001b[0m )\n\u001b[1;32m     23\u001b[0m \u001b[39m# Run this cell. A file `demo.pgn` will be saved to this repo directory which you can open and watch as it is \u001b[39;00m\n\u001b[1;32m     24\u001b[0m \u001b[39m# updated with moves from the game. The game may end in a checkmate, in which case the winner will recieve 1 point \u001b[39;00m\n\u001b[1;32m     25\u001b[0m \u001b[39m# and the loser will receieve 0 points. If the game ends in a draw or a stalemate, both will receieve 0 points. If \u001b[39;00m\n\u001b[0;32m   (...)\u001b[0m\n\u001b[1;32m     28\u001b[0m \u001b[39m# white and once as black. The winner of the pairing will be the team with the highest score summed over the two \u001b[39;00m\n\u001b[1;32m     29\u001b[0m \u001b[39m# games. In the event of a draw, the pairing will be played again until a winner is declared.\u001b[39;00m\n",
      "File \u001b[0;32m~/chess-hackathon/chess_gameplay.py:174\u001b[0m, in \u001b[0;36mplay_game\u001b[0;34m(agents, teams, max_moves, min_seconds_per_move, verbose, poseval, image_path, eval_time_limit, eval_depth_limit)\u001b[0m\n\u001b[1;32m    172\u001b[0m \u001b[39m# evaluate the board:\u001b[39;00m\n\u001b[1;32m    173\u001b[0m \u001b[39mif\u001b[39;00m poseval:\n\u001b[0;32m--> 174\u001b[0m     score \u001b[39m=\u001b[39m evaluate_position(board, time_limit\u001b[39m=\u001b[39;49meval_time_limit, depth_limit\u001b[39m=\u001b[39;49meval_depth_limit)\n\u001b[1;32m    175\u001b[0m     \u001b[39m# if white just moved, then it's now black's turn, so the score is black's score\u001b[39;00m\n\u001b[1;32m    176\u001b[0m     \u001b[39mif\u001b[39;00m turn \u001b[39m==\u001b[39m \u001b[39m'\u001b[39m\u001b[39mwhite\u001b[39m\u001b[39m'\u001b[39m:\n",
      "File \u001b[0;32m~/chess-hackathon/chess_gameplay.py:262\u001b[0m, in \u001b[0;36mevaluate_position\u001b[0;34m(board, time_limit, depth_limit, STOCKFISH_PATH)\u001b[0m\n\u001b[1;32m    258\u001b[0m \u001b[39mdef\u001b[39;00m \u001b[39mevaluate_position\u001b[39m(board, time_limit\u001b[39m=\u001b[39m\u001b[39m2\u001b[39m, depth_limit\u001b[39m=\u001b[39m\u001b[39m25\u001b[39m, STOCKFISH_PATH\u001b[39m=\u001b[39mSTOCKFISH_PATH):\n\u001b[1;32m    259\u001b[0m     \u001b[39m# Initialize the Stockfish engine\u001b[39;00m\n\u001b[1;32m    260\u001b[0m     \u001b[39mwith\u001b[39;00m SimpleEngine\u001b[39m.\u001b[39mpopen_uci(STOCKFISH_PATH) \u001b[39mas\u001b[39;00m engine:\n\u001b[1;32m    261\u001b[0m         \u001b[39m# Perform the evaluation\u001b[39;00m\n\u001b[0;32m--> 262\u001b[0m         info \u001b[39m=\u001b[39m engine\u001b[39m.\u001b[39;49manalyse(board, Limit(depth\u001b[39m=\u001b[39;49mdepth_limit, time\u001b[39m=\u001b[39;49mtime_limit))\n\u001b[1;32m    263\u001b[0m         \u001b[39m# Extract the score\u001b[39;00m\n\u001b[1;32m    264\u001b[0m         score \u001b[39m=\u001b[39m info[\u001b[39m'\u001b[39m\u001b[39mscore\u001b[39m\u001b[39m'\u001b[39m]\u001b[39m.\u001b[39mrelative\u001b[39m.\u001b[39mscore(mate_score\u001b[39m=\u001b[39m\u001b[39m10_000\u001b[39m)\n",
      "File \u001b[0;32m~/chess/lib/python3.10/site-packages/chess/engine.py:2996\u001b[0m, in \u001b[0;36mSimpleEngine.analyse\u001b[0;34m(self, board, limit, multipv, game, info, root_moves, options)\u001b[0m\n\u001b[1;32m   2992\u001b[0m     coro \u001b[39m=\u001b[39m asyncio\u001b[39m.\u001b[39mwait_for(\n\u001b[1;32m   2993\u001b[0m         \u001b[39mself\u001b[39m\u001b[39m.\u001b[39mprotocol\u001b[39m.\u001b[39manalyse(board, limit, multipv\u001b[39m=\u001b[39mmultipv, game\u001b[39m=\u001b[39mgame, info\u001b[39m=\u001b[39minfo, root_moves\u001b[39m=\u001b[39mroot_moves, options\u001b[39m=\u001b[39moptions),\n\u001b[1;32m   2994\u001b[0m         \u001b[39mself\u001b[39m\u001b[39m.\u001b[39m_timeout_for(limit))\n\u001b[1;32m   2995\u001b[0m     future \u001b[39m=\u001b[39m asyncio\u001b[39m.\u001b[39mrun_coroutine_threadsafe(coro, \u001b[39mself\u001b[39m\u001b[39m.\u001b[39mprotocol\u001b[39m.\u001b[39mloop)\n\u001b[0;32m-> 2996\u001b[0m \u001b[39mreturn\u001b[39;00m future\u001b[39m.\u001b[39;49mresult()\n",
      "File \u001b[0;32m/usr/lib/python3.10/concurrent/futures/_base.py:453\u001b[0m, in \u001b[0;36mFuture.result\u001b[0;34m(self, timeout)\u001b[0m\n\u001b[1;32m    450\u001b[0m \u001b[39melif\u001b[39;00m \u001b[39mself\u001b[39m\u001b[39m.\u001b[39m_state \u001b[39m==\u001b[39m FINISHED:\n\u001b[1;32m    451\u001b[0m     \u001b[39mreturn\u001b[39;00m \u001b[39mself\u001b[39m\u001b[39m.\u001b[39m__get_result()\n\u001b[0;32m--> 453\u001b[0m \u001b[39mself\u001b[39;49m\u001b[39m.\u001b[39;49m_condition\u001b[39m.\u001b[39;49mwait(timeout)\n\u001b[1;32m    455\u001b[0m \u001b[39mif\u001b[39;00m \u001b[39mself\u001b[39m\u001b[39m.\u001b[39m_state \u001b[39min\u001b[39;00m [CANCELLED, CANCELLED_AND_NOTIFIED]:\n\u001b[1;32m    456\u001b[0m     \u001b[39mraise\u001b[39;00m CancelledError()\n",
      "File \u001b[0;32m/usr/lib/python3.10/threading.py:320\u001b[0m, in \u001b[0;36mCondition.wait\u001b[0;34m(self, timeout)\u001b[0m\n\u001b[1;32m    318\u001b[0m \u001b[39mtry\u001b[39;00m:    \u001b[39m# restore state no matter what (e.g., KeyboardInterrupt)\u001b[39;00m\n\u001b[1;32m    319\u001b[0m     \u001b[39mif\u001b[39;00m timeout \u001b[39mis\u001b[39;00m \u001b[39mNone\u001b[39;00m:\n\u001b[0;32m--> 320\u001b[0m         waiter\u001b[39m.\u001b[39;49macquire()\n\u001b[1;32m    321\u001b[0m         gotit \u001b[39m=\u001b[39m \u001b[39mTrue\u001b[39;00m\n\u001b[1;32m    322\u001b[0m     \u001b[39melse\u001b[39;00m:\n",
      "\u001b[0;31mKeyboardInterrupt\u001b[0m: "
     ]
    }
   ],
   "source": [
    "# Instantiate agents and record team names. Note we're instantiating Agents with no arguments. These agents have been\n",
    "# passed no models to inform their selections, so they will play purely random moves.\n",
    "\n",
    "agents = {'white': chg.Agent(), 'black': chg.Agent()}\n",
    "teams = {'white': 'Team White', 'black': 'Team Black'}\n",
    "\n",
    "# Then call the `play_game` function. Note that we're playing here to a maximum depth of 5 moves each. In the\n",
    "# tournament we will be playing to a maximum depth of 50 moves. We are also passing \"poseval\"=True which means \n",
    "# we will use StockFish to evaluate the board state after each move. These evaluations are used to update the \n",
    "# eval bar on the left side of the board rendering in `demo.png`. StockFish will be constrained by a time limit\n",
    "# of 2 seconds and a depth limit of 25.\n",
    "\n",
    "game_result = chg.play_game(\n",
    "    agents, \n",
    "    teams, \n",
    "    max_moves=10, \n",
    "    min_seconds_per_move=2, \n",
    "    verbose=True, \n",
    "    poseval=True, \n",
    "    image_path=\"demo.png\"\n",
    ")\n",
    "\n",
    "# Run this cell. A file `demo.pgn` will be saved to this repo directory which you can open and watch as it is \n",
    "# updated with moves from the game. The game may end in a checkmate, in which case the winner will recieve 1 point \n",
    "# and the loser will receieve 0 points. If the game ends in a draw or a stalemate, both will receieve 0 points. If \n",
    "# the maximum number of moves is reached without a conclusion to the game, the StockFish evaluations of the final \n",
    "# board state are used as the points for each Agent. For each pairing in the tournament, teams will play once as \n",
    "# white and once as black. The winner of the pairing will be the team with the highest score summed over the two \n",
    "# games. In the event of a draw, the pairing will be played again until a winner is declared."
   ]
  },
  {
   "cell_type": "markdown",
   "metadata": {},
   "source": [
    "## Agents using models\n",
    "\n",
    "Until you have trained a model and saved a checkpoint, you will not be able to run the following cell, but you can see how your model will be called and passed to an Agent to play with."
   ]
  },
  {
   "cell_type": "code",
   "execution_count": 3,
   "metadata": {},
   "outputs": [
    {
     "name": "stderr",
     "output_type": "stream",
     "text": [
      "/root/chess/lib/python3.10/site-packages/torch/cuda/__init__.py:619: UserWarning: Can't initialize NVML\n",
      "  warnings.warn(\"Can't initialize NVML\")\n"
     ]
    }
   ],
   "source": [
    "import torch\n",
    "import yaml\n",
    "\n",
    "# Your model must be imported exactly as follows; from a module called \"model\" (a file called \"model.py\") and with\n",
    "# the class name \"Model\".\n",
    "\n",
    "from model import Model\n",
    "\n",
    "# All necessary arguments for your model to initialize with must be saved in a YAML file called \"model_config.yaml\"\n",
    "# so that your model can be instantiated exactly as follows. Your model must NOT require any initialization arguments\n",
    "# besides those described in your \"model_config.yaml\" file.\n",
    "\n",
    "model_config = yaml.safe_load(open(\"model_config.yaml\"))\n",
    "model = Model(**model_config)\n",
    "\n",
    "# Your model checkpoint must be called \"checkpoint.pt\" and must be a dictionary-like object with your model weights\n",
    "# stored at the key \"model\" so that it can be loaded into your model exactly as follows.\n",
    "\n",
    "checkpoint = torch.load(\"checkpoint.pt\", map_location=\"cpu\")\n",
    "model.load_state_dict(checkpoint[\"model\"])\n",
    "\n",
    "# Note: when you load your model weights you may see the following warning. You can safely ignore this warning.\n",
    "\n",
    "ignore = \"\"\"\n",
    "/root/.chess/lib/python3.10/site-packages/torch/cuda/__init__.py:619: UserWarning: Can't initialize NVML\n",
    "  warnings.warn(\"Can't initialize NVML\")\n",
    "\"\"\""
   ]
  },
  {
   "cell_type": "code",
   "execution_count": 5,
   "metadata": {},
   "outputs": [
    {
     "name": "stdout",
     "output_type": "stream",
     "text": [
      "white: e3\n",
      "black: b6\n",
      "white: g3\n",
      "black: e6\n",
      "white: d3\n",
      "black: Qg5\n",
      "white: Qf3\n",
      "black: c6\n",
      "white: h3\n",
      "black: d5\n",
      "Max moves reached.\n",
      "White score: 0.501, Black score: 0.499\n"
     ]
    }
   ],
   "source": [
    "# The model is passed as the first positional argument to the Agent, and is then available to the agent to use for\n",
    "# selecting moves in the game.\n",
    "\n",
    "agents = {'white': chg.Agent(model), 'black': chg.Agent(model)}\n",
    "teams = {'white': 'Team White', 'black': 'Team Black'}\n",
    "\n",
    "game_result = chg.play_game(\n",
    "    agents, \n",
    "    teams, \n",
    "    max_moves=5, \n",
    "    min_seconds_per_move=0, \n",
    "    verbose=True, \n",
    "    poseval=True, \n",
    "    image_path=\"demo.png\"\n",
    ")"
   ]
  },
  {
   "cell_type": "code",
   "execution_count": null,
   "metadata": {},
   "outputs": [],
   "source": []
  }
 ],
 "metadata": {
  "kernelspec": {
   "display_name": "Python 3.10.12 ('chess': venv)",
   "language": "python",
   "name": "python3"
  },
  "language_info": {
   "codemirror_mode": {
    "name": "ipython",
    "version": 3
   },
   "file_extension": ".py",
   "mimetype": "text/x-python",
   "name": "python",
   "nbconvert_exporter": "python",
   "pygments_lexer": "ipython3",
   "version": "3.10.12"
  },
  "vscode": {
   "interpreter": {
    "hash": "5cb8d1384df6f575986f3f9ad18cf07eceda869607657dc544330fa189dc1b1b"
   }
  }
 },
 "nbformat": 4,
 "nbformat_minor": 2
}
