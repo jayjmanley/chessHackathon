{
 "cells": [
  {
   "cell_type": "markdown",
   "metadata": {},
   "source": [
    "# Chess Gameplay\n",
    "\n",
    "First import our `chess_gameplay` module."
   ]
  },
  {
   "cell_type": "code",
   "execution_count": 7,
   "metadata": {},
   "outputs": [],
   "source": [
    "import chess_gameplay as chg"
   ]
  },
  {
   "cell_type": "markdown",
   "metadata": {},
   "source": [
    "## Playing a game\n",
    "\n",
    "Let's take a look at how games will be played in the tournament. Before running this cell, open the `demo.png` file alongside so you can watch the action!"
   ]
  },
  {
   "cell_type": "code",
   "execution_count": 8,
   "metadata": {},
   "outputs": [],
   "source": [
    "# # Instantiate agents and record team names. Note we're instantiating Agents with no arguments. These agents have been\n",
    "# # passed no models to inform their selections, so they will play purely random moves.\n",
    "\n",
    "# agents = {'white': chg.Agent(), 'black': chg.Agent()}\n",
    "# teams = {'white': 'Team White', 'black': 'Team Black'}\n",
    "\n",
    "# # Then call the `play_game` function. Note that we're playing here to a maximum depth of 5 moves each. In the\n",
    "# # tournament we will be playing to a maximum depth of 50 moves. We are also passing \"poseval\"=True which means \n",
    "# # we will use StockFish to evaluate the board state after each move. These evaluations are used to update the \n",
    "# # eval bar on the left side of the board rendering in `demo.png`. StockFish will be constrained by a time limit\n",
    "# # of 2 seconds and a depth limit of 25.\n",
    "\n",
    "# game_result = chg.play_game(\n",
    "#     agents, \n",
    "#     teams, \n",
    "#     max_moves=10, \n",
    "#     min_seconds_per_move=2, \n",
    "#     verbose=True, \n",
    "#     poseval=True, \n",
    "#     image_path=\"demo.png\"\n",
    "# )\n",
    "\n",
    "# # Run this cell. A file `demo.pgn` will be saved to this repo directory which you can open and watch as it is \n",
    "# # updated with moves from the game. The game may end in a checkmate, in which case the winner will recieve 1 point \n",
    "# # and the loser will receieve 0 points. If the game ends in a draw or a stalemate, both will receieve 0 points. If \n",
    "# # the maximum number of moves is reached without a conclusion to the game, the StockFish evaluations of the final \n",
    "# # board state are used as the points for each Agent. For each pairing in the tournament, teams will play once as \n",
    "# # white and once as black. The winner of the pairing will be the team with the highest score summed over the two \n",
    "# # games. In the event of a draw, the pairing will be played again until a winner is declared."
   ]
  },
  {
   "cell_type": "markdown",
   "metadata": {},
   "source": [
    "## Agents using models\n",
    "\n",
    "Until you have trained a model and saved a checkpoint, you will not be able to run the following cell, but you can see how your model will be called and passed to an Agent to play with."
   ]
  },
  {
   "cell_type": "code",
   "execution_count": 6,
   "metadata": {},
   "outputs": [
    {
     "ename": "RuntimeError",
     "evalue": "Error(s) in loading state_dict for Model:\n\tMissing key(s) in state_dict: \"pos_embed.weight\", \"convLayers.1.fc1.weight\", \"convLayers.1.fc1.bias\", \"convLayers.1.fc2.weight\", \"convLayers.1.fc2.bias\", \"convLayers.2.k1.weight\", \"convLayers.2.k1.bias\", \"convLayers.2.v1.weight\", \"convLayers.2.v1.bias\", \"convLayers.2.q1.weight\", \"convLayers.2.q1.bias\", \"convLayers.2.k2.weight\", \"convLayers.2.k2.bias\", \"convLayers.2.v2.weight\", \"convLayers.2.v2.bias\", \"convLayers.2.q2.weight\", \"convLayers.2.q2.bias\", \"convLayers.2.attention_head_projection.weight\", \"convLayers.2.attention_head_projection.bias\", \"convLayers.3.conv1.weight\", \"convLayers.3.conv1.bias\", \"convLayers.3.conv2.weight\", \"convLayers.3.conv2.bias\", \"convLayers.3.conv3.weight\", \"convLayers.3.conv3.bias\", \"convLayers.3.bn1.weight\", \"convLayers.3.bn1.bias\", \"convLayers.3.bn1.running_mean\", \"convLayers.3.bn1.running_var\", \"convLayers.3.bn2.weight\", \"convLayers.3.bn2.bias\", \"convLayers.3.bn2.running_mean\", \"convLayers.3.bn2.running_var\", \"convLayers.4.fc1.weight\", \"convLayers.4.fc1.bias\", \"convLayers.4.fc2.weight\", \"convLayers.4.fc2.bias\", \"convLayers.5.k1.weight\", \"convLayers.5.k1.bias\", \"convLayers.5.v1.weight\", \"convLayers.5.v1.bias\", \"convLayers.5.q1.weight\", \"convLayers.5.q1.bias\", \"convLayers.5.k2.weight\", \"convLayers.5.k2.bias\", \"convLayers.5.v2.weight\", \"convLayers.5.v2.bias\", \"convLayers.5.q2.weight\", \"convLayers.5.q2.bias\", \"convLayers.5.attention_head_projection.weight\", \"convLayers.5.attention_head_projection.bias\", \"convnet.1.fc1.weight\", \"convnet.1.fc1.bias\", \"convnet.1.fc2.weight\", \"convnet.1.fc2.bias\", \"convnet.2.k1.weight\", \"convnet.2.k1.bias\", \"convnet.2.v1.weight\", \"convnet.2.v1.bias\", \"convnet.2.q1.weight\", \"convnet.2.q1.bias\", \"convnet.2.k2.weight\", \"convnet.2.k2.bias\", \"convnet.2.v2.weight\", \"convnet.2.v2.bias\", \"convnet.2.q2.weight\", \"convnet.2.q2.bias\", \"convnet.2.attention_head_projection.weight\", \"convnet.2.attention_head_projection.bias\", \"convnet.3.conv1.weight\", \"convnet.3.conv1.bias\", \"convnet.3.conv2.weight\", \"convnet.3.conv2.bias\", \"convnet.3.conv3.weight\", \"convnet.3.conv3.bias\", \"convnet.3.bn1.weight\", \"convnet.3.bn1.bias\", \"convnet.3.bn1.running_mean\", \"convnet.3.bn1.running_var\", \"convnet.3.bn2.weight\", \"convnet.3.bn2.bias\", \"convnet.3.bn2.running_mean\", \"convnet.3.bn2.running_var\", \"convnet.4.fc1.weight\", \"convnet.4.fc1.bias\", \"convnet.4.fc2.weight\", \"convnet.4.fc2.bias\", \"convnet.5.k1.weight\", \"convnet.5.k1.bias\", \"convnet.5.v1.weight\", \"convnet.5.v1.bias\", \"convnet.5.q1.weight\", \"convnet.5.q1.bias\", \"convnet.5.k2.weight\", \"convnet.5.k2.bias\", \"convnet.5.v2.weight\", \"convnet.5.v2.bias\", \"convnet.5.q2.weight\", \"convnet.5.q2.bias\", \"convnet.5.attention_head_projection.weight\", \"convnet.5.attention_head_projection.bias\". \n\tUnexpected key(s) in state_dict: \"convLayers.1.k1.weight\", \"convLayers.1.k1.bias\", \"convLayers.1.v1.weight\", \"convLayers.1.v1.bias\", \"convLayers.1.q1.weight\", \"convLayers.1.q1.bias\", \"convLayers.1.k2.weight\", \"convLayers.1.k2.bias\", \"convLayers.1.v2.weight\", \"convLayers.1.v2.bias\", \"convLayers.1.q2.weight\", \"convLayers.1.q2.bias\", \"convLayers.1.attention_head_projection.weight\", \"convLayers.1.attention_head_projection.bias\", \"convLayers.2.conv1.weight\", \"convLayers.2.conv1.bias\", \"convLayers.2.conv2.weight\", \"convLayers.2.conv2.bias\", \"convLayers.2.conv3.weight\", \"convLayers.2.conv3.bias\", \"convLayers.2.bn1.weight\", \"convLayers.2.bn1.bias\", \"convLayers.2.bn1.running_mean\", \"convLayers.2.bn1.running_var\", \"convLayers.2.bn1.num_batches_tracked\", \"convLayers.2.bn2.weight\", \"convLayers.2.bn2.bias\", \"convLayers.2.bn2.running_mean\", \"convLayers.2.bn2.running_var\", \"convLayers.2.bn2.num_batches_tracked\", \"convLayers.3.k1.weight\", \"convLayers.3.k1.bias\", \"convLayers.3.v1.weight\", \"convLayers.3.v1.bias\", \"convLayers.3.q1.weight\", \"convLayers.3.q1.bias\", \"convLayers.3.k2.weight\", \"convLayers.3.k2.bias\", \"convLayers.3.v2.weight\", \"convLayers.3.v2.bias\", \"convLayers.3.q2.weight\", \"convLayers.3.q2.bias\", \"convLayers.3.attention_head_projection.weight\", \"convLayers.3.attention_head_projection.bias\", \"convnet.1.k1.weight\", \"convnet.1.k1.bias\", \"convnet.1.v1.weight\", \"convnet.1.v1.bias\", \"convnet.1.q1.weight\", \"convnet.1.q1.bias\", \"convnet.1.k2.weight\", \"convnet.1.k2.bias\", \"convnet.1.v2.weight\", \"convnet.1.v2.bias\", \"convnet.1.q2.weight\", \"convnet.1.q2.bias\", \"convnet.1.attention_head_projection.weight\", \"convnet.1.attention_head_projection.bias\", \"convnet.2.conv1.weight\", \"convnet.2.conv1.bias\", \"convnet.2.conv2.weight\", \"convnet.2.conv2.bias\", \"convnet.2.conv3.weight\", \"convnet.2.conv3.bias\", \"convnet.2.bn1.weight\", \"convnet.2.bn1.bias\", \"convnet.2.bn1.running_mean\", \"convnet.2.bn1.running_var\", \"convnet.2.bn1.num_batches_tracked\", \"convnet.2.bn2.weight\", \"convnet.2.bn2.bias\", \"convnet.2.bn2.running_mean\", \"convnet.2.bn2.running_var\", \"convnet.2.bn2.num_batches_tracked\", \"convnet.3.k1.weight\", \"convnet.3.k1.bias\", \"convnet.3.v1.weight\", \"convnet.3.v1.bias\", \"convnet.3.q1.weight\", \"convnet.3.q1.bias\", \"convnet.3.k2.weight\", \"convnet.3.k2.bias\", \"convnet.3.v2.weight\", \"convnet.3.v2.bias\", \"convnet.3.q2.weight\", \"convnet.3.q2.bias\", \"convnet.3.attention_head_projection.weight\", \"convnet.3.attention_head_projection.bias\". ",
     "output_type": "error",
     "traceback": [
      "\u001b[0;31m---------------------------------------------------------------------------\u001b[0m",
      "\u001b[0;31mRuntimeError\u001b[0m                              Traceback (most recent call last)",
      "Cell \u001b[0;32mIn[6], line 25\u001b[0m\n\u001b[1;32m     23\u001b[0m model2 \u001b[39m=\u001b[39m Model(\u001b[39m*\u001b[39m\u001b[39m*\u001b[39mmodel_config)\n\u001b[1;32m     24\u001b[0m checkpoint2 \u001b[39m=\u001b[39m torch\u001b[39m.\u001b[39mload(\u001b[39m\"\u001b[39m\u001b[39mcheckpoint.pt\u001b[39m\u001b[39m\"\u001b[39m, map_location\u001b[39m=\u001b[39m\u001b[39m\"\u001b[39m\u001b[39mcpu\u001b[39m\u001b[39m\"\u001b[39m)\n\u001b[0;32m---> 25\u001b[0m model2\u001b[39m.\u001b[39;49mload_state_dict(checkpoint2[\u001b[39m\"\u001b[39;49m\u001b[39mmodel\u001b[39;49m\u001b[39m\"\u001b[39;49m])\n\u001b[1;32m     26\u001b[0m \u001b[39m# Note: when you load your model weights you may see the following warning. You can safely ignore this warning.\u001b[39;00m\n\u001b[1;32m     28\u001b[0m ignore \u001b[39m=\u001b[39m \u001b[39m\"\"\"\u001b[39m\n\u001b[1;32m     29\u001b[0m \u001b[39m/root/.chess/lib/python3.10/site-packages/torch/cuda/__init__.py:619: UserWarning: Can\u001b[39m\u001b[39m'\u001b[39m\u001b[39mt initialize NVML\u001b[39m\n\u001b[1;32m     30\u001b[0m \u001b[39m  warnings.warn(\u001b[39m\u001b[39m\"\u001b[39m\u001b[39mCan\u001b[39m\u001b[39m'\u001b[39m\u001b[39mt initialize NVML\u001b[39m\u001b[39m\"\u001b[39m\u001b[39m)\u001b[39m\n\u001b[1;32m     31\u001b[0m \u001b[39m\"\"\"\u001b[39m\n",
      "File \u001b[0;32m~/chess/lib/python3.10/site-packages/torch/nn/modules/module.py:2189\u001b[0m, in \u001b[0;36mModule.load_state_dict\u001b[0;34m(self, state_dict, strict, assign)\u001b[0m\n\u001b[1;32m   2184\u001b[0m         error_msgs\u001b[39m.\u001b[39minsert(\n\u001b[1;32m   2185\u001b[0m             \u001b[39m0\u001b[39m, \u001b[39m'\u001b[39m\u001b[39mMissing key(s) in state_dict: \u001b[39m\u001b[39m{}\u001b[39;00m\u001b[39m. \u001b[39m\u001b[39m'\u001b[39m\u001b[39m.\u001b[39mformat(\n\u001b[1;32m   2186\u001b[0m                 \u001b[39m'\u001b[39m\u001b[39m, \u001b[39m\u001b[39m'\u001b[39m\u001b[39m.\u001b[39mjoin(\u001b[39mf\u001b[39m\u001b[39m'\u001b[39m\u001b[39m\"\u001b[39m\u001b[39m{\u001b[39;00mk\u001b[39m}\u001b[39;00m\u001b[39m\"\u001b[39m\u001b[39m'\u001b[39m \u001b[39mfor\u001b[39;00m k \u001b[39min\u001b[39;00m missing_keys)))\n\u001b[1;32m   2188\u001b[0m \u001b[39mif\u001b[39;00m \u001b[39mlen\u001b[39m(error_msgs) \u001b[39m>\u001b[39m \u001b[39m0\u001b[39m:\n\u001b[0;32m-> 2189\u001b[0m     \u001b[39mraise\u001b[39;00m \u001b[39mRuntimeError\u001b[39;00m(\u001b[39m'\u001b[39m\u001b[39mError(s) in loading state_dict for \u001b[39m\u001b[39m{}\u001b[39;00m\u001b[39m:\u001b[39m\u001b[39m\\n\u001b[39;00m\u001b[39m\\t\u001b[39;00m\u001b[39m{}\u001b[39;00m\u001b[39m'\u001b[39m\u001b[39m.\u001b[39mformat(\n\u001b[1;32m   2190\u001b[0m                        \u001b[39mself\u001b[39m\u001b[39m.\u001b[39m\u001b[39m__class__\u001b[39m\u001b[39m.\u001b[39m\u001b[39m__name__\u001b[39m, \u001b[39m\"\u001b[39m\u001b[39m\\n\u001b[39;00m\u001b[39m\\t\u001b[39;00m\u001b[39m\"\u001b[39m\u001b[39m.\u001b[39mjoin(error_msgs)))\n\u001b[1;32m   2191\u001b[0m \u001b[39mreturn\u001b[39;00m _IncompatibleKeys(missing_keys, unexpected_keys)\n",
      "\u001b[0;31mRuntimeError\u001b[0m: Error(s) in loading state_dict for Model:\n\tMissing key(s) in state_dict: \"pos_embed.weight\", \"convLayers.1.fc1.weight\", \"convLayers.1.fc1.bias\", \"convLayers.1.fc2.weight\", \"convLayers.1.fc2.bias\", \"convLayers.2.k1.weight\", \"convLayers.2.k1.bias\", \"convLayers.2.v1.weight\", \"convLayers.2.v1.bias\", \"convLayers.2.q1.weight\", \"convLayers.2.q1.bias\", \"convLayers.2.k2.weight\", \"convLayers.2.k2.bias\", \"convLayers.2.v2.weight\", \"convLayers.2.v2.bias\", \"convLayers.2.q2.weight\", \"convLayers.2.q2.bias\", \"convLayers.2.attention_head_projection.weight\", \"convLayers.2.attention_head_projection.bias\", \"convLayers.3.conv1.weight\", \"convLayers.3.conv1.bias\", \"convLayers.3.conv2.weight\", \"convLayers.3.conv2.bias\", \"convLayers.3.conv3.weight\", \"convLayers.3.conv3.bias\", \"convLayers.3.bn1.weight\", \"convLayers.3.bn1.bias\", \"convLayers.3.bn1.running_mean\", \"convLayers.3.bn1.running_var\", \"convLayers.3.bn2.weight\", \"convLayers.3.bn2.bias\", \"convLayers.3.bn2.running_mean\", \"convLayers.3.bn2.running_var\", \"convLayers.4.fc1.weight\", \"convLayers.4.fc1.bias\", \"convLayers.4.fc2.weight\", \"convLayers.4.fc2.bias\", \"convLayers.5.k1.weight\", \"convLayers.5.k1.bias\", \"convLayers.5.v1.weight\", \"convLayers.5.v1.bias\", \"convLayers.5.q1.weight\", \"convLayers.5.q1.bias\", \"convLayers.5.k2.weight\", \"convLayers.5.k2.bias\", \"convLayers.5.v2.weight\", \"convLayers.5.v2.bias\", \"convLayers.5.q2.weight\", \"convLayers.5.q2.bias\", \"convLayers.5.attention_head_projection.weight\", \"convLayers.5.attention_head_projection.bias\", \"convnet.1.fc1.weight\", \"convnet.1.fc1.bias\", \"convnet.1.fc2.weight\", \"convnet.1.fc2.bias\", \"convnet.2.k1.weight\", \"convnet.2.k1.bias\", \"convnet.2.v1.weight\", \"convnet.2.v1.bias\", \"convnet.2.q1.weight\", \"convnet.2.q1.bias\", \"convnet.2.k2.weight\", \"convnet.2.k2.bias\", \"convnet.2.v2.weight\", \"convnet.2.v2.bias\", \"convnet.2.q2.weight\", \"convnet.2.q2.bias\", \"convnet.2.attention_head_projection.weight\", \"convnet.2.attention_head_projection.bias\", \"convnet.3.conv1.weight\", \"convnet.3.conv1.bias\", \"convnet.3.conv2.weight\", \"convnet.3.conv2.bias\", \"convnet.3.conv3.weight\", \"convnet.3.conv3.bias\", \"convnet.3.bn1.weight\", \"convnet.3.bn1.bias\", \"convnet.3.bn1.running_mean\", \"convnet.3.bn1.running_var\", \"convnet.3.bn2.weight\", \"convnet.3.bn2.bias\", \"convnet.3.bn2.running_mean\", \"convnet.3.bn2.running_var\", \"convnet.4.fc1.weight\", \"convnet.4.fc1.bias\", \"convnet.4.fc2.weight\", \"convnet.4.fc2.bias\", \"convnet.5.k1.weight\", \"convnet.5.k1.bias\", \"convnet.5.v1.weight\", \"convnet.5.v1.bias\", \"convnet.5.q1.weight\", \"convnet.5.q1.bias\", \"convnet.5.k2.weight\", \"convnet.5.k2.bias\", \"convnet.5.v2.weight\", \"convnet.5.v2.bias\", \"convnet.5.q2.weight\", \"convnet.5.q2.bias\", \"convnet.5.attention_head_projection.weight\", \"convnet.5.attention_head_projection.bias\". \n\tUnexpected key(s) in state_dict: \"convLayers.1.k1.weight\", \"convLayers.1.k1.bias\", \"convLayers.1.v1.weight\", \"convLayers.1.v1.bias\", \"convLayers.1.q1.weight\", \"convLayers.1.q1.bias\", \"convLayers.1.k2.weight\", \"convLayers.1.k2.bias\", \"convLayers.1.v2.weight\", \"convLayers.1.v2.bias\", \"convLayers.1.q2.weight\", \"convLayers.1.q2.bias\", \"convLayers.1.attention_head_projection.weight\", \"convLayers.1.attention_head_projection.bias\", \"convLayers.2.conv1.weight\", \"convLayers.2.conv1.bias\", \"convLayers.2.conv2.weight\", \"convLayers.2.conv2.bias\", \"convLayers.2.conv3.weight\", \"convLayers.2.conv3.bias\", \"convLayers.2.bn1.weight\", \"convLayers.2.bn1.bias\", \"convLayers.2.bn1.running_mean\", \"convLayers.2.bn1.running_var\", \"convLayers.2.bn1.num_batches_tracked\", \"convLayers.2.bn2.weight\", \"convLayers.2.bn2.bias\", \"convLayers.2.bn2.running_mean\", \"convLayers.2.bn2.running_var\", \"convLayers.2.bn2.num_batches_tracked\", \"convLayers.3.k1.weight\", \"convLayers.3.k1.bias\", \"convLayers.3.v1.weight\", \"convLayers.3.v1.bias\", \"convLayers.3.q1.weight\", \"convLayers.3.q1.bias\", \"convLayers.3.k2.weight\", \"convLayers.3.k2.bias\", \"convLayers.3.v2.weight\", \"convLayers.3.v2.bias\", \"convLayers.3.q2.weight\", \"convLayers.3.q2.bias\", \"convLayers.3.attention_head_projection.weight\", \"convLayers.3.attention_head_projection.bias\", \"convnet.1.k1.weight\", \"convnet.1.k1.bias\", \"convnet.1.v1.weight\", \"convnet.1.v1.bias\", \"convnet.1.q1.weight\", \"convnet.1.q1.bias\", \"convnet.1.k2.weight\", \"convnet.1.k2.bias\", \"convnet.1.v2.weight\", \"convnet.1.v2.bias\", \"convnet.1.q2.weight\", \"convnet.1.q2.bias\", \"convnet.1.attention_head_projection.weight\", \"convnet.1.attention_head_projection.bias\", \"convnet.2.conv1.weight\", \"convnet.2.conv1.bias\", \"convnet.2.conv2.weight\", \"convnet.2.conv2.bias\", \"convnet.2.conv3.weight\", \"convnet.2.conv3.bias\", \"convnet.2.bn1.weight\", \"convnet.2.bn1.bias\", \"convnet.2.bn1.running_mean\", \"convnet.2.bn1.running_var\", \"convnet.2.bn1.num_batches_tracked\", \"convnet.2.bn2.weight\", \"convnet.2.bn2.bias\", \"convnet.2.bn2.running_mean\", \"convnet.2.bn2.running_var\", \"convnet.2.bn2.num_batches_tracked\", \"convnet.3.k1.weight\", \"convnet.3.k1.bias\", \"convnet.3.v1.weight\", \"convnet.3.v1.bias\", \"convnet.3.q1.weight\", \"convnet.3.q1.bias\", \"convnet.3.k2.weight\", \"convnet.3.k2.bias\", \"convnet.3.v2.weight\", \"convnet.3.v2.bias\", \"convnet.3.q2.weight\", \"convnet.3.q2.bias\", \"convnet.3.attention_head_projection.weight\", \"convnet.3.attention_head_projection.bias\". "
     ]
    }
   ],
   "source": [
    "import torch\n",
    "import yaml\n",
    "\n",
    "# Your model must be imported exactly as follows; from a module called \"model\" (a file called \"model.py\") and with\n",
    "# the class name \"Model\".\n",
    "\n",
    "# from model import Model\n",
    "from new_trained_checkpoint.model import Model\n",
    "# from burst_model1 import Model as Model2\n",
    "\n",
    "# All necessary arguments for your model to initialize with must be saved in a YAML file called \"model_config.yaml\"\n",
    "# so that your model can be instantiated exactly as follows. Your model must NOT require any initialization arguments\n",
    "# besides those described in your \"model_config.yaml\" file.\n",
    "\n",
    "model_config = yaml.safe_load(open(\"model_config.yaml\"))\n",
    "model = Model(**model_config)\n",
    "\n",
    "# # Your model checkpoint must be called \"checkpoint.pt\" and must be a dictionary-like object with your model weights\n",
    "# # stored at the key \"model\" so that it can be loaded into your model exactly as follows.\n",
    "\n",
    "# checkpoint = torch.load(\"checkpoint.pt\", map_location=\"cpu\")\n",
    "# model.load_state_dict(checkpoint[\"model\"])\n",
    "\n",
    "model2 = Model(**model_config)\n",
    "checkpoint2 = torch.load(\"checkpoint.pt\", map_location=\"cpu\")\n",
    "model2.load_state_dict(checkpoint2[\"model\"])\n",
    "# Note: when you load your model weights you may see the following warning. You can safely ignore this warning.\n",
    "\n",
    "ignore = \"\"\"\n",
    "/root/.chess/lib/python3.10/site-packages/torch/cuda/__init__.py:619: UserWarning: Can't initialize NVML\n",
    "  warnings.warn(\"Can't initialize NVML\")\n",
    "\"\"\""
   ]
  },
  {
   "cell_type": "code",
   "execution_count": null,
   "metadata": {},
   "outputs": [
    {
     "name": "stdout",
     "output_type": "stream",
     "text": [
      "white: e3\n",
      "black: b6\n",
      "white: Be2\n",
      "black: e6\n",
      "white: Nc3\n",
      "black: a5\n",
      "white: Nf3\n",
      "black: c6\n",
      "white: a4\n",
      "black: Be7\n",
      "white: O-O\n",
      "black: f6\n",
      "white: d4\n",
      "black: e5\n",
      "white: h3\n",
      "black: d6\n",
      "white: Re1\n",
      "black: b5\n",
      "white: d5\n",
      "black: Kf7\n",
      "white: Bd3\n",
      "black: Ra7\n",
      "white: axb5\n",
      "black: Ke8\n",
      "white: bxc6\n",
      "black: Bxh3\n",
      "white: Rxa5\n",
      "black: Bc8\n",
      "white: Rxa7\n",
      "black: Na6\n",
      "white: Rxa6\n",
      "black: Nh6\n",
      "white: Ra1\n",
      "black: Kf8\n",
      "white: e4\n",
      "black: Bh3\n",
      "white: gxh3\n",
      "black: Qc8\n",
      "white: Kg2\n",
      "black: Ng4\n",
      "Max moves reached.\n",
      "White score: 0.555, Black score: 0.445\n"
     ]
    }
   ],
   "source": [
    "# The model is passed as the first positional argument to the Agent, and is then available to the agent to use for\n",
    "# selecting moves in the game.\n",
    "\n",
    "agents = {'white': chg.Agent(model2), 'black': chg.Agent(model)}\n",
    "teams = {'white': 'Team White', 'black': 'Team Black'}\n",
    "\n",
    "game_result = chg.play_game(\n",
    "    agents, \n",
    "    teams, \n",
    "    max_moves=20, \n",
    "    min_seconds_per_move=0, \n",
    "    verbose=True, \n",
    "    poseval=True, \n",
    "    image_path=\"demo.png\"\n",
    ")"
   ]
  },
  {
   "cell_type": "code",
   "execution_count": null,
   "metadata": {},
   "outputs": [],
   "source": []
  }
 ],
 "metadata": {
  "kernelspec": {
   "display_name": "Python 3.10.12 ('chess': venv)",
   "language": "python",
   "name": "python3"
  },
  "language_info": {
   "codemirror_mode": {
    "name": "ipython",
    "version": 3
   },
   "file_extension": ".py",
   "mimetype": "text/x-python",
   "name": "python",
   "nbconvert_exporter": "python",
   "pygments_lexer": "ipython3",
   "version": "3.10.12"
  },
  "vscode": {
   "interpreter": {
    "hash": "5cb8d1384df6f575986f3f9ad18cf07eceda869607657dc544330fa189dc1b1b"
   }
  }
 },
 "nbformat": 4,
 "nbformat_minor": 2
}
